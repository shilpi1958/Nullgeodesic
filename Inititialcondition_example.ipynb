{
 "cells": [
  {
   "cell_type": "code",
   "execution_count": 206,
   "metadata": {},
   "outputs": [],
   "source": [
    "import numpy as np\n",
    "from astropy import constants\n",
    "import astropy.units as u\n",
    "\n",
    "from einsteinpy.utils import kerr_utils\n",
    "from einsteinpy.coordinates import Cartesian ,CartesianDifferential\n",
    "\n",
    "class InitialConditionsBHFrame:\n",
    "\n",
    "    \"\"\"\n",
    "    Class for defining initial conditions for photon rays in black hole frame\n",
    "    \"\"\"\n",
    "\n",
    "    @u.quantity_input(\n",
    "        r_obs =u.km,\n",
    "        theta_obs=u.rad,\n",
    "        phi_obs=u.rad ,\n",
    "        a=u.km\n",
    "        )\n",
    "\n",
    "    def __init__(self, r_obs ,theta_obs, phi_obs,  a ):\n",
    "        self.a = a\n",
    "       #self.M = M\n",
    "        self.r_obs= r_obs\n",
    "        self.theta_obs= theta_obs\n",
    "        self.phi_obs= phi_obs\n",
    "\n",
    "    def coord_photon(self , x , y , z):\n",
    "\n",
    "        \"\"\"\n",
    "\n",
    "        Parameters\n",
    "        ----------\n",
    "        r_obs : float\n",
    "                The observer is located at a distance r_obs from\n",
    "                the black hole center\n",
    "\n",
    "        theta_obs: float\n",
    "                The observer is located at an angle theta_obs\n",
    "                from the positive black hole z'-axis\n",
    "                (coinciding with the spin axis)\n",
    "\n",
    "        phi_obs: float\n",
    "                The observer is located at an angle phi_obs\n",
    "                with respect to the black hole’s x′-axis\n",
    "\n",
    "        M : float\n",
    "            Mass of massive body\n",
    "\n",
    "        a : float\n",
    "            Spin factor\n",
    "\n",
    "        x , y , z: float\n",
    "            Coordinates in observer's coordinate system i.e. observer grid\n",
    "\n",
    "        x_bh , y_bh , z_bh:\n",
    "            Coordinates in black hole's  coordinate system\n",
    "\n",
    "        Returns\n",
    "        -------\n",
    "        array\n",
    "            (r, θ, φ) conditions for a photon on the observer grid\n",
    "\n",
    "        \"\"\"\n",
    "\n",
    "        D = (((np.sqrt((self.r_obs * self.r_obs) + (self.a * self.a))) - z) * np.sin(self.theta_obs))\n",
    "        -(y * np.cos(self.theta_obs))\n",
    "\n",
    "     \n",
    "        x_bh = (D * np.cos(self.phi_obs)) - (x * np.sin(self.phi_obs))\n",
    "        y_bh = (D * np.sin(self.phi_obs)) + (x * np.cos(self.phi_obs))\n",
    "        z_bh = (self.r_obs - z) * np.cos(self.theta_obs) + (y * np.sin(self.theta_obs))\n",
    "\n",
    "        blackhole_grid = Cartesian(x_bh , y_bh , z_bh)\n",
    "    \n",
    "        return blackhole_grid.to_bl(self.a)\n",
    "    \n",
    "    \n",
    "\n",
    "    def initial_velocity_photon(self, x , y ,z):\n",
    "\n",
    "        \"\"\"\n",
    "\n",
    "        Each ray arrives perpendicular to the image plane, moving\n",
    "        parallel to the z-axis, hence we set velocity\n",
    "        in observer grid as = (0, 0, 1)\n",
    "\n",
    "        Parameters\n",
    "        ----------\n",
    "        r_obs : float\n",
    "                The observer is located at a distance r_obs from\n",
    "                the black hole center\n",
    "\n",
    "        theta_obs: float\n",
    "                The observer is located at an angle theta_obs\n",
    "                from the positive black hole z'-axis\n",
    "                (coinciding with the spin axis)\n",
    "\n",
    "        phi_obs: float\n",
    "                The observer is located at an angle phi_obs\n",
    "                with respect to the black hole’s x′-axis\n",
    "\n",
    "        M : float\n",
    "            Mass of massive body\n",
    "\n",
    "        a : float\n",
    "            Spin factor\n",
    "\n",
    "        x , y , z: float\n",
    "            Coordinates in observer's coordinate system i.e. observer grid\n",
    "\n",
    "        x_bh , y_bh , z_bh:\n",
    "            Coordinates in black hole's  coordinate system\n",
    "\n",
    "        x_vel , y_vel, z_vel: (0, 0, 1)\n",
    "            Cartesian components of the ray’s velocity in observer grid\n",
    "\n",
    "        x_vel_bh , y_vel_bh , z_vel_bh:\n",
    "            Cartesian components of the ray’s velocity in black hole\n",
    "            coordinates\n",
    "\n",
    "        Returns\n",
    "        -------\n",
    "        array\n",
    "             Initial Velocity  of photon in BL coordinates\n",
    "             on the observer grid\n",
    "\n",
    "            \"\"\"\n",
    "\n",
    "        coordinates = self.coord_photon(x , y , z)\n",
    "        coords = coordinates.si_values()\n",
    "        x_bh = coords[0]  * u.km\n",
    "        y_bh = coords[1]  * u.km\n",
    "        z_bh = coords[2]  * u.km\n",
    "        \n",
    "\n",
    "        # velocity in observer grid : (0, 0, 1)\n",
    "        x_vel_bh = - (np.cos(self.phi_obs) * np.sin(self.theta_obs)) * u.km / u.s\n",
    "        y_vel_bh = - (np.sin(self.phi_obs) * np.sin(self.theta_obs)) * u.km / u.s\n",
    "        z_vel_bh = - (np.cos(self.theta_obs)) * u.km / u.s\n",
    "        \n",
    "        photon_velocity = CartesianDifferential(x_bh, y_bh, z_bh, x_vel_bh , y_vel_bh , z_vel_bh )\n",
    "        \n",
    "        return photon_velocity.bl_differential(self.a)\n"
   ]
  },
  {
   "cell_type": "code",
   "execution_count": 207,
   "metadata": {},
   "outputs": [],
   "source": [
    "inico = InitialConditionsBHFrame(3060 * u.m, np.pi/2 * u.rad, -np.pi/6*u.rad , 0.2 * u.km)"
   ]
  },
  {
   "cell_type": "code",
   "execution_count": 208,
   "metadata": {
    "scrolled": true
   },
   "outputs": [
    {
     "data": {
      "text/plain": [
       "Boyer-Lindquist r: 3060.0 m, theta: 1.5707963267948966 rad, phi: -0.5235987755982988 rad | a: 0.2 km"
      ]
     },
     "execution_count": 208,
     "metadata": {},
     "output_type": "execute_result"
    }
   ],
   "source": [
    "inico.coord_photon(0 * u.km ,0 * u.km , 0 * u.km)\n"
   ]
  },
  {
   "cell_type": "code",
   "execution_count": 209,
   "metadata": {},
   "outputs": [
    {
     "data": {
      "text/plain": [
       "Boyer-Lindquist r: 3060.0004414308146 km, theta: 1.5709674374820273 rad, phi: 0.0005133320878501531 rad\n",
       "vr: -0.8657686128235428 km / s, vt: 4.841249748741955e-08 rad / s, vp: 0.00016354393032537716 rad / s\n",
       "a: 0.2 km"
      ]
     },
     "execution_count": 209,
     "metadata": {},
     "output_type": "execute_result"
    }
   ],
   "source": [
    "inico.initial_velocity_photon(0 * u.km ,0 * u.km , 0 * u.km)"
   ]
  },
  {
   "cell_type": "code",
   "execution_count": null,
   "metadata": {},
   "outputs": [],
   "source": []
  },
  {
   "cell_type": "code",
   "execution_count": null,
   "metadata": {},
   "outputs": [],
   "source": []
  },
  {
   "cell_type": "code",
   "execution_count": null,
   "metadata": {},
   "outputs": [],
   "source": []
  },
  {
   "cell_type": "code",
   "execution_count": null,
   "metadata": {},
   "outputs": [],
   "source": []
  },
  {
   "cell_type": "code",
   "execution_count": null,
   "metadata": {},
   "outputs": [],
   "source": []
  },
  {
   "cell_type": "code",
   "execution_count": null,
   "metadata": {},
   "outputs": [],
   "source": []
  }
 ],
 "metadata": {
  "kernelspec": {
   "display_name": "Python 3",
   "language": "python",
   "name": "python3"
  },
  "language_info": {
   "codemirror_mode": {
    "name": "ipython",
    "version": 3
   },
   "file_extension": ".py",
   "mimetype": "text/x-python",
   "name": "python",
   "nbconvert_exporter": "python",
   "pygments_lexer": "ipython3",
   "version": "3.7.3"
  }
 },
 "nbformat": 4,
 "nbformat_minor": 2
}
